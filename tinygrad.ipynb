{
 "cells": [
  {
   "cell_type": "code",
   "execution_count": null,
   "id": "0a84043c",
   "metadata": {},
   "outputs": [],
   "source": [
    "from tinygrad.tensor import Tensor\n",
    "import numpy as np\n",
    "from torch.utils.data import DataLoader\n",
    "\n",
    "import albumentations as A\n",
    "from albumentations.pytorch import ToTensorV2\n",
    "\n",
    "from tqdm import tqdm\n",
    "from glob import glob\n",
    "from PIL import Image\n",
    "from random import shuffle\n",
    "\n",
    "from dataset import CatVsDogsDataset"
   ]
  },
  {
   "cell_type": "code",
   "execution_count": null,
   "id": "28de247f",
   "metadata": {},
   "outputs": [],
   "source": [
    "BATCH_SIZE = 16"
   ]
  },
  {
   "cell_type": "code",
   "execution_count": null,
   "id": "32f8e47c",
   "metadata": {},
   "outputs": [],
   "source": [
    "classes = [\"Cat\", \"Dog\"]"
   ]
  },
  {
   "cell_type": "code",
   "execution_count": null,
   "id": "f7908331",
   "metadata": {},
   "outputs": [],
   "source": [
    "transform = A.Compose(\n",
    "    [\n",
    "        A.Resize(224, 224),\n",
    "        A.Normalize()\n",
    "    ]\n",
    ")"
   ]
  },
  {
   "cell_type": "code",
   "execution_count": null,
   "id": "4e873178",
   "metadata": {},
   "outputs": [],
   "source": [
    "train_dataset = CatVsDogsDataset(\n",
    "    train_images, classes=classes, transform=transform\n",
    ")\n",
    "val_dataset = CatVsDogsDataset(val_images, classes=classes, transform=transform)"
   ]
  },
  {
   "cell_type": "code",
   "execution_count": null,
   "id": "c3724a8c",
   "metadata": {},
   "outputs": [],
   "source": [
    "train_dataloader = DataLoader(dataset=train_dataset, batch_size=BATCH_SIZE, shuffle=True)\n",
    "val_dataloader = DataLoader(dataset=val_dataset, batch_size=1)"
   ]
  },
  {
   "cell_type": "code",
   "execution_count": null,
   "id": "11ed5f6c",
   "metadata": {},
   "outputs": [],
   "source": [
    "for X, y, _ in train_dataloader:\n",
    "    print(y)\n",
    "    break"
   ]
  },
  {
   "cell_type": "code",
   "execution_count": null,
   "id": "36d5717a",
   "metadata": {},
   "outputs": [],
   "source": [
    "import tinygrad.nn as nn\n",
    "import tinygrad.nn.optim as optim\n",
    "from tinygrad.tensor import Tensor"
   ]
  },
  {
   "cell_type": "code",
   "execution_count": null,
   "id": "acdd3faa",
   "metadata": {},
   "outputs": [],
   "source": [
    "class CatsVsDogsSimpleNet:\n",
    "    def __init__(self):\n",
    "        self.conv1 = nn.Conv2d(\n",
    "            in_channels=3, out_channels=32, kernel_size=3, stride=1, padding=0\n",
    "        )\n",
    "        self.conv2 = nn.Conv2d(\n",
    "            in_channels=32, out_channels=64, kernel_size=3, stride=1, padding=0\n",
    "        )\n",
    "        self.conv3 = nn.Conv2d(\n",
    "            in_channels=64, out_channels=128, kernel_size=5, stride=2, padding=0\n",
    "        )\n",
    "        self.fc1 = nn.Linear(128 * 3 * 3, 2)\n",
    "\n",
    "    def __call__(self, x):\n",
    "        x = self.conv1(x)\n",
    "        x = x.relu()\n",
    "        x = Tensor.max_pool2d(x, [2, 2])\n",
    "        x = self.conv2(x)\n",
    "        x = x.relu()\n",
    "        x = Tensor.max_pool2d(x, [2, 2])\n",
    "        x = self.conv3(x)\n",
    "        x = x.relu()\n",
    "        x = Tensor.max_pool2d(x, [8, 8])\n",
    "        x = x.flatten(1)\n",
    "        x = self.fc1(x)\n",
    "\n",
    "        return x"
   ]
  },
  {
   "cell_type": "code",
   "execution_count": null,
   "id": "04899189",
   "metadata": {},
   "outputs": [],
   "source": [
    "model = CatsVsDogsSimpleNet()"
   ]
  },
  {
   "cell_type": "code",
   "execution_count": null,
   "id": "7a3f7236",
   "metadata": {},
   "outputs": [],
   "source": [
    "parameters = optim.get_parameters(model)"
   ]
  },
  {
   "cell_type": "code",
   "execution_count": null,
   "id": "0920b658",
   "metadata": {},
   "outputs": [],
   "source": [
    "sum(map(lambda x: np.prod(np.array(x.realize().shape)), parameters))"
   ]
  },
  {
   "cell_type": "code",
   "execution_count": null,
   "id": "1ed93fe2",
   "metadata": {},
   "outputs": [],
   "source": [
    "parameters[1].realize().shape"
   ]
  },
  {
   "cell_type": "code",
   "execution_count": null,
   "id": "c53db480",
   "metadata": {},
   "outputs": [],
   "source": [
    "optimizer = optim.SGD(parameters, lr=1e-3)"
   ]
  },
  {
   "cell_type": "code",
   "execution_count": null,
   "id": "21320a6d",
   "metadata": {},
   "outputs": [],
   "source": [
    "criterion = torch.nn.CrossEntropyLoss()"
   ]
  },
  {
   "cell_type": "code",
   "execution_count": null,
   "id": "23de1380",
   "metadata": {},
   "outputs": [],
   "source": [
    "NUM_EPOCHS = 1"
   ]
  },
  {
   "cell_type": "code",
   "execution_count": null,
   "id": "cdac6375",
   "metadata": {},
   "outputs": [],
   "source": [
    "def sparse_categorical_crossentropy(out, Y):\n",
    "    num_classes = out.shape[-1]\n",
    "    YY = Y.flatten()\n",
    "    y = np.zeros((YY.shape[0], num_classes), np.float32)\n",
    "    y[range(y.shape[0]),YY] = -1.0*num_classes\n",
    "    y = y.reshape(list(Y.shape)+[num_classes])\n",
    "    y = Tensor(y)\n",
    "    return out.mul(y).mean()"
   ]
  },
  {
   "cell_type": "code",
   "execution_count": null,
   "id": "9564a78e",
   "metadata": {
    "scrolled": false
   },
   "outputs": [],
   "source": [
    "for epoch in range(NUM_EPOCHS):\n",
    "    Tensor.training = True\n",
    "    for X, y, _ in train_dataloader:\n",
    "        X = Tensor(np.moveaxis(X.numpy(), -1, 1), requires_grad=False).cpu()\n",
    "        y = y.numpy()\n",
    "\n",
    "        optimizer.zero_grad()\n",
    "        \n",
    "        out = model(X)\n",
    "        loss = sparse_categorical_crossentropy(out, y)\n",
    "#         loss = out.logsoftmax().mul(y).mean()\n",
    "        loss.backward()\n",
    "        \n",
    "        print(loss.realize())\n",
    "        \n",
    "        optimizer.step()\n",
    "        "
   ]
  },
  {
   "cell_type": "code",
   "execution_count": null,
   "id": "dfeea617",
   "metadata": {},
   "outputs": [],
   "source": [
    "# realize"
   ]
  },
  {
   "cell_type": "code",
   "execution_count": null,
   "id": "66c60c3f",
   "metadata": {},
   "outputs": [],
   "source": [
    "Tensor.randn(16, 3, 224, 224, requires_grad=False)"
   ]
  },
  {
   "cell_type": "code",
   "execution_count": null,
   "id": "212e095e",
   "metadata": {},
   "outputs": [],
   "source": []
  }
 ],
 "metadata": {
  "kernelspec": {
   "display_name": "Python 3 (ipykernel)",
   "language": "python",
   "name": "python3"
  },
  "language_info": {
   "codemirror_mode": {
    "name": "ipython",
    "version": 3
   },
   "file_extension": ".py",
   "mimetype": "text/x-python",
   "name": "python",
   "nbconvert_exporter": "python",
   "pygments_lexer": "ipython3",
   "version": "3.9.16"
  }
 },
 "nbformat": 4,
 "nbformat_minor": 5
}
